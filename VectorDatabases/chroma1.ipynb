{
 "cells": [
  {
   "cell_type": "code",
   "execution_count": 3,
   "id": "cde026e5",
   "metadata": {},
   "outputs": [],
   "source": [
    "from langchain_community.llms import Ollama \n",
    "from langchain.vectorstores import Chroma \n",
    "from langchain_community.embeddings import OllamaEmbeddings"
   ]
  },
  {
   "cell_type": "code",
   "execution_count": 4,
   "id": "59f29719",
   "metadata": {},
   "outputs": [],
   "source": [
    "from langchain.schema import Document\n",
    "\n",
    "\n",
    "doc1 = Document(\n",
    "    page_content=\"Arbitrary metadata associated with the content. most successful and consistent batsmen in IPL history.\",\n",
    "    metadata={\"team\": \"Royal Challengers Bangalore\"}\n",
    ")\n",
    "\n",
    "doc2 = Document(\n",
    "    page_content=\"Rohit Sharma is the most successful captain in IPL history, leading Mumbai Indians.\", # Completed the sentence based on common knowledge\n",
    "    metadata={\"team\": \"Mumbai Indians\"}\n",
    ")\n",
    "\n",
    "doc3 = Document(\n",
    "    page_content=\"MS Dhoni, famously known as Captain Cool, has led Chennai Super Kings to multiple titles.\", # Completed the sentence\n",
    "    metadata={\"team\": \"Chennai Super Kings\"}\n",
    ")\n",
    "\n",
    "doc4 = Document(\n",
    "    page_content=\"Jasprit Bumrah is considered one of the best fast bowlers in T20 cricket. Playing for Mumbai Indians.\", # Completed the sentence\n",
    "    metadata={\"team\": \"Mumbai Indians\"}\n",
    ")\n",
    "\n",
    "doc5 = Document(\n",
    "    page_content=\"Ravindra Jadeja is a dynamic all-rounder who contributes with both bat and ball.\",\n",
    "    metadata={\"team\": \"Chennai Super Kings\"} # Assumed based on common knowledge for Ravindra Jadeja's IPL team\n",
    ")"
   ]
  },
  {
   "cell_type": "code",
   "execution_count": 5,
   "id": "91d7cb76",
   "metadata": {},
   "outputs": [
    {
     "name": "stderr",
     "output_type": "stream",
     "text": [
      "C:\\Users\\kalak\\AppData\\Local\\Temp\\ipykernel_27836\\2516844623.py:1: LangChainDeprecationWarning: The class `OllamaEmbeddings` was deprecated in LangChain 0.3.1 and will be removed in 1.0.0. An updated version of the class exists in the :class:`~langchain-ollama package and should be used instead. To use it run `pip install -U :class:`~langchain-ollama` and import as `from :class:`~langchain_ollama import OllamaEmbeddings``.\n",
      "  embedding = OllamaEmbeddings(model=\"mxbai-embed-large\")\n"
     ]
    }
   ],
   "source": [
    "embedding = OllamaEmbeddings(model=\"mxbai-embed-large\")\n"
   ]
  },
  {
   "cell_type": "code",
   "execution_count": 6,
   "id": "9e35f6cc",
   "metadata": {},
   "outputs": [
    {
     "name": "stderr",
     "output_type": "stream",
     "text": [
      "C:\\Users\\kalak\\AppData\\Local\\Temp\\ipykernel_27836\\3302254122.py:1: LangChainDeprecationWarning: The class `Chroma` was deprecated in LangChain 0.2.9 and will be removed in 1.0. An updated version of the class exists in the :class:`~langchain-chroma package and should be used instead. To use it run `pip install -U :class:`~langchain-chroma` and import as `from :class:`~langchain_chroma import Chroma``.\n",
      "  vector_store = Chroma(\n"
     ]
    }
   ],
   "source": [
    "vector_store = Chroma(\n",
    "    embedding_function=embedding,\n",
    "    persist_directory='chroma_db',\n",
    "    collection_name='sample',\n",
    ")"
   ]
  },
  {
   "cell_type": "code",
   "execution_count": 8,
   "id": "92887656",
   "metadata": {},
   "outputs": [],
   "source": [
    "docs = [doc1, doc2, doc3, doc4, doc5]"
   ]
  },
  {
   "cell_type": "code",
   "execution_count": 9,
   "id": "afcd863b",
   "metadata": {},
   "outputs": [
    {
     "data": {
      "text/plain": [
       "['40671f8f-4e05-4687-8614-580c134de9a4',\n",
       " '60744b63-3ca5-4250-a8e2-ef346e48250c',\n",
       " 'ba5bd696-8be0-4341-a1d0-31db980619bd',\n",
       " '717c5da7-8fa2-483b-ba87-ab6a6dbdf245',\n",
       " 'cdc6e958-4bca-49bb-83b0-1ee2009bc669']"
      ]
     },
     "execution_count": 9,
     "metadata": {},
     "output_type": "execute_result"
    }
   ],
   "source": [
    "vector_store.add_documents(docs)"
   ]
  },
  {
   "cell_type": "code",
   "execution_count": 13,
   "id": "633732be",
   "metadata": {},
   "outputs": [
    {
     "data": {
      "text/plain": [
       "{'ids': ['40671f8f-4e05-4687-8614-580c134de9a4',\n",
       "  '60744b63-3ca5-4250-a8e2-ef346e48250c',\n",
       "  'ba5bd696-8be0-4341-a1d0-31db980619bd',\n",
       "  '717c5da7-8fa2-483b-ba87-ab6a6dbdf245',\n",
       "  'cdc6e958-4bca-49bb-83b0-1ee2009bc669'],\n",
       " 'embeddings': array([[ 0.41041389, -0.77134812,  0.19111128, ..., -0.90491676,\n",
       "          0.12862211, -0.07652613],\n",
       "        [ 0.39936078, -0.60059047, -0.62259293, ..., -0.9897837 ,\n",
       "         -0.12868062, -0.54768121],\n",
       "        [ 0.17576328, -0.51754236, -0.09618756, ..., -0.85694784,\n",
       "         -0.20110339, -0.77447873],\n",
       "        [ 0.37409177, -0.76073724, -0.77518976, ..., -0.74942052,\n",
       "         -0.42095438, -0.67651415],\n",
       "        [ 0.04791607, -0.49793959, -0.43176767, ..., -0.82796693,\n",
       "         -0.23341757, -0.28045362]], shape=(5, 1024)),\n",
       " 'documents': ['Arbitrary metadata associated with the content. most successful and consistent batsmen in IPL history.',\n",
       "  'Rohit Sharma is the most successful captain in IPL history, leading Mumbai Indians.',\n",
       "  'MS Dhoni, famously known as Captain Cool, has led Chennai Super Kings to multiple titles.',\n",
       "  'Jasprit Bumrah is considered one of the best fast bowlers in T20 cricket. Playing for Mumbai Indians.',\n",
       "  'Ravindra Jadeja is a dynamic all-rounder who contributes with both bat and ball.'],\n",
       " 'uris': None,\n",
       " 'included': ['embeddings', 'metadatas', 'documents'],\n",
       " 'data': None,\n",
       " 'metadatas': [{'team': 'Royal Challengers Bangalore'},\n",
       "  {'team': 'Mumbai Indians'},\n",
       "  {'team': 'Chennai Super Kings'},\n",
       "  {'team': 'Mumbai Indians'},\n",
       "  {'team': 'Chennai Super Kings'}]}"
      ]
     },
     "execution_count": 13,
     "metadata": {},
     "output_type": "execute_result"
    }
   ],
   "source": [
    "vector_store.get(include=['embeddings','metadatas', 'documents'])"
   ]
  },
  {
   "cell_type": "code",
   "execution_count": 14,
   "id": "73b8a4bf",
   "metadata": {},
   "outputs": [],
   "source": [
    "# searching"
   ]
  },
  {
   "cell_type": "code",
   "execution_count": 18,
   "id": "94c2f030",
   "metadata": {},
   "outputs": [
    {
     "data": {
      "text/plain": [
       "[Document(metadata={'team': 'Mumbai Indians'}, page_content='Jasprit Bumrah is considered one of the best fast bowlers in T20 cricket. Playing for Mumbai Indians.'),\n",
       " Document(metadata={'team': 'Chennai Super Kings'}, page_content='Ravindra Jadeja is a dynamic all-rounder who contributes with both bat and ball.')]"
      ]
     },
     "execution_count": 18,
     "metadata": {},
     "output_type": "execute_result"
    }
   ],
   "source": [
    "vector_store.similarity_search(\n",
    "    query='Who among these are a bowler',\n",
    "    k = 2\n",
    ")"
   ]
  },
  {
   "cell_type": "code",
   "execution_count": 19,
   "id": "19e9e139",
   "metadata": {},
   "outputs": [
    {
     "data": {
      "text/plain": [
       "[(Document(metadata={'team': 'Mumbai Indians'}, page_content='Jasprit Bumrah is considered one of the best fast bowlers in T20 cricket. Playing for Mumbai Indians.'),\n",
       "  176.2219696044922),\n",
       " (Document(metadata={'team': 'Chennai Super Kings'}, page_content='Ravindra Jadeja is a dynamic all-rounder who contributes with both bat and ball.'),\n",
       "  220.71749877929688)]"
      ]
     },
     "execution_count": 19,
     "metadata": {},
     "output_type": "execute_result"
    }
   ],
   "source": [
    "vector_store.similarity_search_with_score(\n",
    "    query='Who among these are a bowler',\n",
    "    k = 2\n",
    ")"
   ]
  },
  {
   "cell_type": "code",
   "execution_count": 22,
   "id": "e19185e3",
   "metadata": {},
   "outputs": [
    {
     "data": {
      "text/plain": [
       "[(Document(metadata={'team': 'Chennai Super Kings'}, page_content='MS Dhoni, famously known as Captain Cool, has led Chennai Super Kings to multiple titles.'),\n",
       "  315.9848327636719)]"
      ]
     },
     "execution_count": 22,
     "metadata": {},
     "output_type": "execute_result"
    }
   ],
   "source": [
    "vector_store.similarity_search_with_score(\n",
    "    query='',\n",
    "    filter={'team':'Chennai Super Kings'},\n",
    "    k=1\n",
    ")"
   ]
  },
  {
   "cell_type": "code",
   "execution_count": 23,
   "id": "3940278b",
   "metadata": {},
   "outputs": [],
   "source": [
    "# Updation"
   ]
  },
  {
   "cell_type": "code",
   "execution_count": 25,
   "id": "bf8e6843",
   "metadata": {},
   "outputs": [],
   "source": [
    "updated_doc1 = Document(\n",
    "    page_content=\"Virat Kohli is a great batter and known for his aggressive captaincy.\",\n",
    "    metadata={\"team\": \"Royal Challengers Bangalore\"} # Assuming the team remains the same based on the original doc1 context\n",
    ")\n"
   ]
  },
  {
   "cell_type": "code",
   "execution_count": null,
   "id": "af4630fb",
   "metadata": {},
   "outputs": [],
   "source": []
  }
 ],
 "metadata": {
  "kernelspec": {
   "display_name": "venv",
   "language": "python",
   "name": "python3"
  },
  "language_info": {
   "codemirror_mode": {
    "name": "ipython",
    "version": 3
   },
   "file_extension": ".py",
   "mimetype": "text/x-python",
   "name": "python",
   "nbconvert_exporter": "python",
   "pygments_lexer": "ipython3",
   "version": "3.10.0"
  }
 },
 "nbformat": 4,
 "nbformat_minor": 5
}
