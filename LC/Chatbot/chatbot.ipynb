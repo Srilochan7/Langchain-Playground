{
 "cells": [
  {
   "cell_type": "code",
   "execution_count": 1,
   "id": "664e60f8",
   "metadata": {},
   "outputs": [
    {
     "data": {
      "text/plain": [
       "'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'"
      ]
     },
     "execution_count": 1,
     "metadata": {},
     "output_type": "execute_result"
    }
   ],
   "source": [
    "import os \n",
    "from dotenv import load_dotenv\n",
    "load_dotenv()\n",
    "\n",
    "groq_api_key = os.getenv(\"GROQ_API_KEY\")\n",
    "groq_api_key"
   ]
  },
  {
   "cell_type": "code",
   "execution_count": 2,
   "id": "5e2b01ce",
   "metadata": {},
   "outputs": [
    {
     "data": {
      "text/plain": [
       "ChatGroq(client=<groq.resources.chat.completions.Completions object at 0x000001F2A0202F80>, async_client=<groq.resources.chat.completions.AsyncCompletions object at 0x000001F2A0239450>, model_name='Gemma2-9b-It', model_kwargs={}, groq_api_key=SecretStr('**********'))"
      ]
     },
     "execution_count": 2,
     "metadata": {},
     "output_type": "execute_result"
    }
   ],
   "source": [
    "from langchain_groq import ChatGroq\n",
    "\n",
    "model = ChatGroq(model=\"Gemma2-9b-It\", groq_api_key=groq_api_key)\n",
    "\n",
    "model"
   ]
  },
  {
   "cell_type": "code",
   "execution_count": 4,
   "id": "e415f2f9",
   "metadata": {},
   "outputs": [
    {
     "data": {
      "text/plain": [
       "AIMessage(content=\"Hi Lochan, it's nice to meet you!\\n\\nAs an AI, I don't have personal experiences or feelings, but I'm always eager to learn about what people are working on.\\n\\nWhat kind of AI engineering are you involved in?  Do you have any projects you're particularly excited about?\\n\", additional_kwargs={}, response_metadata={'token_usage': {'completion_tokens': 69, 'prompt_tokens': 22, 'total_tokens': 91, 'completion_time': 0.125454545, 'prompt_time': 0.002115267, 'queue_time': 0.245751823, 'total_time': 0.127569812}, 'model_name': 'Gemma2-9b-It', 'system_fingerprint': 'fp_10c08bf97d', 'finish_reason': 'stop', 'logprobs': None}, id='run--c459dc69-de2c-4abc-8fa9-5a79a5b1f24f-0', usage_metadata={'input_tokens': 22, 'output_tokens': 69, 'total_tokens': 91})"
      ]
     },
     "execution_count": 4,
     "metadata": {},
     "output_type": "execute_result"
    }
   ],
   "source": [
    "from langchain_core.messages import HumanMessage\n",
    "model.invoke([\n",
    "    HumanMessage(content=\"Hi, My name is Lochan and I am an AI engineer\")\n",
    "])"
   ]
  },
  {
   "cell_type": "code",
   "execution_count": 5,
   "id": "2770ee6f",
   "metadata": {},
   "outputs": [
    {
     "data": {
      "text/plain": [
       "AIMessage(content=\"You told me your name is Lochan!  \\n\\nAs an AI, I don't have memory of past conversations.  Every time we interact, it's like a fresh start. So while I know your name is Lochan right now, I don't know anything else about you unless you tell me. \\n\\nWhat can you tell me about yourself? 😊  \\n\\n\", additional_kwargs={}, response_metadata={'token_usage': {'completion_tokens': 81, 'prompt_tokens': 112, 'total_tokens': 193, 'completion_time': 0.147272727, 'prompt_time': 0.005326143, 'queue_time': 0.249031298, 'total_time': 0.15259887}, 'model_name': 'Gemma2-9b-It', 'system_fingerprint': 'fp_10c08bf97d', 'finish_reason': 'stop', 'logprobs': None}, id='run--9726ab89-1c4e-4f2c-821a-ad259f369c85-0', usage_metadata={'input_tokens': 112, 'output_tokens': 81, 'total_tokens': 193})"
      ]
     },
     "execution_count": 5,
     "metadata": {},
     "output_type": "execute_result"
    }
   ],
   "source": [
    "from langchain_core.messages import AIMessage\n",
    "\n",
    "model.invoke([\n",
    "    HumanMessage(content=\"Hi, My name is Lochan and I am an AI engineer\"),\n",
    "    AIMessage(content=\"Hi Lochan, it's nice to meet you!\\n\\nAs an AI, I don't have personal experiences or feelings, but I'm always eager to learn about what people are working on.\\n\\nWhat kind of AI engineering are you involved in?  Do you have any projects you're particularly excited about?\\n\"),\n",
    "    HumanMessage(content=\"hey what is my name and whatdo you know about me ?\")\n",
    "])"
   ]
  },
  {
   "cell_type": "code",
   "execution_count": 7,
   "id": "899fe79a",
   "metadata": {},
   "outputs": [
    {
     "name": "stdout",
     "output_type": "stream",
     "text": [
      "Requirement already satisfied: langchain_community in c:\\users\\kalak\\downloads\\desktop\\langchain-playground\\venv\\lib\\site-packages (0.3.24)\n",
      "Requirement already satisfied: langchain-core<1.0.0,>=0.3.59 in c:\\users\\kalak\\downloads\\desktop\\langchain-playground\\venv\\lib\\site-packages (from langchain_community) (0.3.64)\n",
      "Requirement already satisfied: langchain<1.0.0,>=0.3.25 in c:\\users\\kalak\\downloads\\desktop\\langchain-playground\\venv\\lib\\site-packages (from langchain_community) (0.3.25)\n",
      "Requirement already satisfied: SQLAlchemy<3,>=1.4 in c:\\users\\kalak\\downloads\\desktop\\langchain-playground\\venv\\lib\\site-packages (from langchain_community) (2.0.41)\n",
      "Requirement already satisfied: requests<3,>=2 in c:\\users\\kalak\\downloads\\desktop\\langchain-playground\\venv\\lib\\site-packages (from langchain_community) (2.32.3)\n",
      "Requirement already satisfied: PyYAML>=5.3 in c:\\users\\kalak\\downloads\\desktop\\langchain-playground\\venv\\lib\\site-packages (from langchain_community) (6.0.2)\n",
      "Requirement already satisfied: aiohttp<4.0.0,>=3.8.3 in c:\\users\\kalak\\downloads\\desktop\\langchain-playground\\venv\\lib\\site-packages (from langchain_community) (3.12.9)\n",
      "Requirement already satisfied: tenacity!=8.4.0,<10,>=8.1.0 in c:\\users\\kalak\\downloads\\desktop\\langchain-playground\\venv\\lib\\site-packages (from langchain_community) (9.1.2)\n",
      "Requirement already satisfied: dataclasses-json<0.7,>=0.5.7 in c:\\users\\kalak\\downloads\\desktop\\langchain-playground\\venv\\lib\\site-packages (from langchain_community) (0.6.7)\n",
      "Requirement already satisfied: pydantic-settings<3.0.0,>=2.4.0 in c:\\users\\kalak\\downloads\\desktop\\langchain-playground\\venv\\lib\\site-packages (from langchain_community) (2.9.1)\n",
      "Requirement already satisfied: langsmith<0.4,>=0.1.125 in c:\\users\\kalak\\downloads\\desktop\\langchain-playground\\venv\\lib\\site-packages (from langchain_community) (0.3.45)\n",
      "Requirement already satisfied: httpx-sse<1.0.0,>=0.4.0 in c:\\users\\kalak\\downloads\\desktop\\langchain-playground\\venv\\lib\\site-packages (from langchain_community) (0.4.0)\n",
      "Requirement already satisfied: numpy>=1.26.2 in c:\\users\\kalak\\downloads\\desktop\\langchain-playground\\venv\\lib\\site-packages (from langchain_community) (2.2.6)\n",
      "Requirement already satisfied: aiohappyeyeballs>=2.5.0 in c:\\users\\kalak\\downloads\\desktop\\langchain-playground\\venv\\lib\\site-packages (from aiohttp<4.0.0,>=3.8.3->langchain_community) (2.6.1)\n",
      "Requirement already satisfied: aiosignal>=1.1.2 in c:\\users\\kalak\\downloads\\desktop\\langchain-playground\\venv\\lib\\site-packages (from aiohttp<4.0.0,>=3.8.3->langchain_community) (1.3.2)\n",
      "Requirement already satisfied: async-timeout<6.0,>=4.0 in c:\\users\\kalak\\downloads\\desktop\\langchain-playground\\venv\\lib\\site-packages (from aiohttp<4.0.0,>=3.8.3->langchain_community) (4.0.3)\n",
      "Requirement already satisfied: attrs>=17.3.0 in c:\\users\\kalak\\downloads\\desktop\\langchain-playground\\venv\\lib\\site-packages (from aiohttp<4.0.0,>=3.8.3->langchain_community) (25.3.0)\n",
      "Requirement already satisfied: frozenlist>=1.1.1 in c:\\users\\kalak\\downloads\\desktop\\langchain-playground\\venv\\lib\\site-packages (from aiohttp<4.0.0,>=3.8.3->langchain_community) (1.6.2)\n",
      "Requirement already satisfied: multidict<7.0,>=4.5 in c:\\users\\kalak\\downloads\\desktop\\langchain-playground\\venv\\lib\\site-packages (from aiohttp<4.0.0,>=3.8.3->langchain_community) (6.4.4)\n",
      "Requirement already satisfied: propcache>=0.2.0 in c:\\users\\kalak\\downloads\\desktop\\langchain-playground\\venv\\lib\\site-packages (from aiohttp<4.0.0,>=3.8.3->langchain_community) (0.3.1)\n",
      "Requirement already satisfied: yarl<2.0,>=1.17.0 in c:\\users\\kalak\\downloads\\desktop\\langchain-playground\\venv\\lib\\site-packages (from aiohttp<4.0.0,>=3.8.3->langchain_community) (1.20.0)\n",
      "Requirement already satisfied: marshmallow<4.0.0,>=3.18.0 in c:\\users\\kalak\\downloads\\desktop\\langchain-playground\\venv\\lib\\site-packages (from dataclasses-json<0.7,>=0.5.7->langchain_community) (3.26.1)\n",
      "Requirement already satisfied: typing-inspect<1,>=0.4.0 in c:\\users\\kalak\\downloads\\desktop\\langchain-playground\\venv\\lib\\site-packages (from dataclasses-json<0.7,>=0.5.7->langchain_community) (0.9.0)\n",
      "Requirement already satisfied: langchain-text-splitters<1.0.0,>=0.3.8 in c:\\users\\kalak\\downloads\\desktop\\langchain-playground\\venv\\lib\\site-packages (from langchain<1.0.0,>=0.3.25->langchain_community) (0.3.8)\n",
      "Requirement already satisfied: pydantic<3.0.0,>=2.7.4 in c:\\users\\kalak\\downloads\\desktop\\langchain-playground\\venv\\lib\\site-packages (from langchain<1.0.0,>=0.3.25->langchain_community) (2.11.5)\n",
      "Requirement already satisfied: jsonpatch<2.0,>=1.33 in c:\\users\\kalak\\downloads\\desktop\\langchain-playground\\venv\\lib\\site-packages (from langchain-core<1.0.0,>=0.3.59->langchain_community) (1.33)\n",
      "Requirement already satisfied: packaging<25,>=23.2 in c:\\users\\kalak\\downloads\\desktop\\langchain-playground\\venv\\lib\\site-packages (from langchain-core<1.0.0,>=0.3.59->langchain_community) (24.2)\n",
      "Requirement already satisfied: typing-extensions>=4.7 in c:\\users\\kalak\\downloads\\desktop\\langchain-playground\\venv\\lib\\site-packages (from langchain-core<1.0.0,>=0.3.59->langchain_community) (4.14.0)\n",
      "Requirement already satisfied: jsonpointer>=1.9 in c:\\users\\kalak\\downloads\\desktop\\langchain-playground\\venv\\lib\\site-packages (from jsonpatch<2.0,>=1.33->langchain-core<1.0.0,>=0.3.59->langchain_community) (3.0.0)\n",
      "Requirement already satisfied: httpx<1,>=0.23.0 in c:\\users\\kalak\\downloads\\desktop\\langchain-playground\\venv\\lib\\site-packages (from langsmith<0.4,>=0.1.125->langchain_community) (0.28.1)\n",
      "Requirement already satisfied: orjson<4.0.0,>=3.9.14 in c:\\users\\kalak\\downloads\\desktop\\langchain-playground\\venv\\lib\\site-packages (from langsmith<0.4,>=0.1.125->langchain_community) (3.10.18)\n",
      "Requirement already satisfied: requests-toolbelt<2.0.0,>=1.0.0 in c:\\users\\kalak\\downloads\\desktop\\langchain-playground\\venv\\lib\\site-packages (from langsmith<0.4,>=0.1.125->langchain_community) (1.0.0)\n",
      "Requirement already satisfied: zstandard<0.24.0,>=0.23.0 in c:\\users\\kalak\\downloads\\desktop\\langchain-playground\\venv\\lib\\site-packages (from langsmith<0.4,>=0.1.125->langchain_community) (0.23.0)\n",
      "Requirement already satisfied: anyio in c:\\users\\kalak\\downloads\\desktop\\langchain-playground\\venv\\lib\\site-packages (from httpx<1,>=0.23.0->langsmith<0.4,>=0.1.125->langchain_community) (4.9.0)\n",
      "Requirement already satisfied: certifi in c:\\users\\kalak\\downloads\\desktop\\langchain-playground\\venv\\lib\\site-packages (from httpx<1,>=0.23.0->langsmith<0.4,>=0.1.125->langchain_community) (2025.4.26)\n",
      "Requirement already satisfied: httpcore==1.* in c:\\users\\kalak\\downloads\\desktop\\langchain-playground\\venv\\lib\\site-packages (from httpx<1,>=0.23.0->langsmith<0.4,>=0.1.125->langchain_community) (1.0.9)\n",
      "Requirement already satisfied: idna in c:\\users\\kalak\\downloads\\desktop\\langchain-playground\\venv\\lib\\site-packages (from httpx<1,>=0.23.0->langsmith<0.4,>=0.1.125->langchain_community) (3.10)\n",
      "Requirement already satisfied: h11>=0.16 in c:\\users\\kalak\\downloads\\desktop\\langchain-playground\\venv\\lib\\site-packages (from httpcore==1.*->httpx<1,>=0.23.0->langsmith<0.4,>=0.1.125->langchain_community) (0.16.0)\n",
      "Requirement already satisfied: annotated-types>=0.6.0 in c:\\users\\kalak\\downloads\\desktop\\langchain-playground\\venv\\lib\\site-packages (from pydantic<3.0.0,>=2.7.4->langchain<1.0.0,>=0.3.25->langchain_community) (0.7.0)\n",
      "Requirement already satisfied: pydantic-core==2.33.2 in c:\\users\\kalak\\downloads\\desktop\\langchain-playground\\venv\\lib\\site-packages (from pydantic<3.0.0,>=2.7.4->langchain<1.0.0,>=0.3.25->langchain_community) (2.33.2)\n",
      "Requirement already satisfied: typing-inspection>=0.4.0 in c:\\users\\kalak\\downloads\\desktop\\langchain-playground\\venv\\lib\\site-packages (from pydantic<3.0.0,>=2.7.4->langchain<1.0.0,>=0.3.25->langchain_community) (0.4.1)\n",
      "Requirement already satisfied: python-dotenv>=0.21.0 in c:\\users\\kalak\\downloads\\desktop\\langchain-playground\\venv\\lib\\site-packages (from pydantic-settings<3.0.0,>=2.4.0->langchain_community) (1.1.0)\n",
      "Requirement already satisfied: charset-normalizer<4,>=2 in c:\\users\\kalak\\downloads\\desktop\\langchain-playground\\venv\\lib\\site-packages (from requests<3,>=2->langchain_community) (3.4.2)\n",
      "Requirement already satisfied: urllib3<3,>=1.21.1 in c:\\users\\kalak\\downloads\\desktop\\langchain-playground\\venv\\lib\\site-packages (from requests<3,>=2->langchain_community) (2.4.0)\n",
      "Requirement already satisfied: greenlet>=1 in c:\\users\\kalak\\downloads\\desktop\\langchain-playground\\venv\\lib\\site-packages (from SQLAlchemy<3,>=1.4->langchain_community) (3.2.3)\n",
      "Requirement already satisfied: mypy-extensions>=0.3.0 in c:\\users\\kalak\\downloads\\desktop\\langchain-playground\\venv\\lib\\site-packages (from typing-inspect<1,>=0.4.0->dataclasses-json<0.7,>=0.5.7->langchain_community) (1.1.0)\n",
      "Requirement already satisfied: exceptiongroup>=1.0.2 in c:\\users\\kalak\\downloads\\desktop\\langchain-playground\\venv\\lib\\site-packages (from anyio->httpx<1,>=0.23.0->langsmith<0.4,>=0.1.125->langchain_community) (1.3.0)\n",
      "Requirement already satisfied: sniffio>=1.1 in c:\\users\\kalak\\downloads\\desktop\\langchain-playground\\venv\\lib\\site-packages (from anyio->httpx<1,>=0.23.0->langsmith<0.4,>=0.1.125->langchain_community) (1.3.1)\n"
     ]
    }
   ],
   "source": [
    "!pip install langchain_community"
   ]
  },
  {
   "cell_type": "code",
   "execution_count": 10,
   "id": "e6c99827",
   "metadata": {},
   "outputs": [],
   "source": [
    "from langchain_community.chat_message_histories import ChatMessageHistory\n",
    "from langchain_core.chat_history import BaseChatMessageHistory\n",
    "from langchain_core.runnables.history import RunnableWithMessageHistory\n",
    "\n",
    "store = {}\n",
    "\n",
    "def get_session_history(session_id:str)->BaseChatMessageHistory:\n",
    "    if session_id not in store:\n",
    "        store[session_id] = ChatMessageHistory()\n",
    "    return store[session_id]\n",
    "\n",
    "with_message_history = RunnableWithMessageHistory(model, get_session_history)"
   ]
  },
  {
   "cell_type": "code",
   "execution_count": 11,
   "id": "c883c618",
   "metadata": {},
   "outputs": [],
   "source": [
    "config = {\"configurable\":{\"session_id\":\"c1\"}}"
   ]
  },
  {
   "cell_type": "code",
   "execution_count": 14,
   "id": "38608481",
   "metadata": {},
   "outputs": [
    {
     "data": {
      "text/plain": [
       "AIMessage(content=\"Hi Lochan, it's nice to meet you! \\n\\nThat's fascinating, being an AI engineer is such a cutting-edge field. What kind of projects are you working on? \\n\\nPerhaps you can tell me more about your work, or if you have any questions for me about language models, I'd be happy to help!\\n\", additional_kwargs={}, response_metadata={'token_usage': {'completion_tokens': 75, 'prompt_tokens': 22, 'total_tokens': 97, 'completion_time': 0.136363636, 'prompt_time': 0.002125245, 'queue_time': 0.254664976, 'total_time': 0.138488881}, 'model_name': 'Gemma2-9b-It', 'system_fingerprint': 'fp_10c08bf97d', 'finish_reason': 'stop', 'logprobs': None}, id='run--69dfae04-7dc8-41d2-8325-fca9b75d128a-0', usage_metadata={'input_tokens': 22, 'output_tokens': 75, 'total_tokens': 97})"
      ]
     },
     "execution_count": 14,
     "metadata": {},
     "output_type": "execute_result"
    }
   ],
   "source": [
    "with_message_history.invoke(\n",
    "    [HumanMessage(content=\"Hi, My name is Lochan and I am an AI engineer\") ],\n",
    "       config=config\n",
    "    \n",
    ")"
   ]
  },
  {
   "cell_type": "code",
   "execution_count": 15,
   "id": "575d563f",
   "metadata": {},
   "outputs": [
    {
     "data": {
      "text/plain": [
       "AIMessage(content=\"Your name is Lochan, as you told me earlier! 😊  \\n\\nIt's nice to be talking to a fellow AI enthusiast named Lochan.  What can I do for you today?\\n\", additional_kwargs={}, response_metadata={'token_usage': {'completion_tokens': 43, 'prompt_tokens': 111, 'total_tokens': 154, 'completion_time': 0.078181818, 'prompt_time': 0.007675653, 'queue_time': 0.247814247, 'total_time': 0.085857471}, 'model_name': 'Gemma2-9b-It', 'system_fingerprint': 'fp_10c08bf97d', 'finish_reason': 'stop', 'logprobs': None}, id='run--ae4ba709-2247-4b0a-b9eb-55c7cfffc637-0', usage_metadata={'input_tokens': 111, 'output_tokens': 43, 'total_tokens': 154})"
      ]
     },
     "execution_count": 15,
     "metadata": {},
     "output_type": "execute_result"
    }
   ],
   "source": [
    "with_message_history.invoke(\n",
    "    [HumanMessage(content=\"Hey what is my name ??\")],\n",
    "    config=config\n",
    ")"
   ]
  },
  {
   "cell_type": "code",
   "execution_count": 22,
   "id": "57d5a42b",
   "metadata": {},
   "outputs": [
    {
     "data": {
      "text/plain": [
       "AIMessage(content=\"As an AI, I have no memory of past conversations and don't know you personally. Every interaction we have is a fresh start.\\n\\nHow can I help you today?\\n\", additional_kwargs={}, response_metadata={'token_usage': {'completion_tokens': 39, 'prompt_tokens': 16, 'total_tokens': 55, 'completion_time': 0.070909091, 'prompt_time': 0.001896996, 'queue_time': 0.256914593, 'total_time': 0.072806087}, 'model_name': 'Gemma2-9b-It', 'system_fingerprint': 'fp_10c08bf97d', 'finish_reason': 'stop', 'logprobs': None}, id='run--9fadda5c-3a09-4a56-a936-c084fea3c5a4-0', usage_metadata={'input_tokens': 16, 'output_tokens': 39, 'total_tokens': 55})"
      ]
     },
     "execution_count": 22,
     "metadata": {},
     "output_type": "execute_result"
    }
   ],
   "source": [
    "config1 = {\"configurable\":{\"session_id\":\"c2\"}}\n",
    "with_message_history.invoke(\n",
    "    [HumanMessage(content=\"hey do ypu know me ??\")],\n",
    "    config=config1\n",
    ")"
   ]
  },
  {
   "cell_type": "code",
   "execution_count": null,
   "id": "c3292c98",
   "metadata": {},
   "outputs": [],
   "source": []
  }
 ],
 "metadata": {
  "kernelspec": {
   "display_name": "Python 3",
   "language": "python",
   "name": "python3"
  },
  "language_info": {
   "codemirror_mode": {
    "name": "ipython",
    "version": 3
   },
   "file_extension": ".py",
   "mimetype": "text/x-python",
   "name": "python",
   "nbconvert_exporter": "python",
   "pygments_lexer": "ipython3",
   "version": "3.10.0"
  }
 },
 "nbformat": 4,
 "nbformat_minor": 5
}
