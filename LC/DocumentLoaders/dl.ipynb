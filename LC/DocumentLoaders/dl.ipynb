{
 "cells": [
  {
   "cell_type": "code",
   "execution_count": 2,
   "id": "40afdaec",
   "metadata": {},
   "outputs": [],
   "source": [
    "from langchain_community.document_loaders import TextLoader\n",
    "\n",
    "loader = TextLoader('textloader.txt')"
   ]
  },
  {
   "cell_type": "code",
   "execution_count": 5,
   "id": "58ab0d2d",
   "metadata": {},
   "outputs": [
    {
     "data": {
      "text/plain": [
       "[Document(metadata={'source': 'textloader.txt'}, page_content='Sample Input 1:\\ngradious hello world and knowledge is of no value unless you put it into practice and hello world again\\n\\nExpected Output 1:\\nagain and gradious hello into is it knowledge no of practice put unless value world you\\n\\n\\nSample Input 2:\\nA lone wolf howled beneath the pale moon\\n\\nExpected Output 2:\\na beneath howled lone moon pale the wolf\\n\\n\\nSample Input 3:\\nSunlight filtered through tall green trees casting dappled shadows on the forest floor\\n\\nExpected Output 3:\\ncasting dappled filtered floor forest green on shadows sunlight tall the through trees')]"
      ]
     },
     "execution_count": 5,
     "metadata": {},
     "output_type": "execute_result"
    }
   ],
   "source": [
    "td = loader.load()\n",
    "td"
   ]
  },
  {
   "cell_type": "code",
   "execution_count": 8,
   "id": "17827501",
   "metadata": {},
   "outputs": [
    {
     "data": {
      "text/plain": [
       "[Document(metadata={'producer': 'TCPDF 6.7.8 (http://www.tcpdf.org)', 'creator': 'PDF Generator API (https://pdfgeneratorapi.com)', 'creationdate': '2025-06-05T07:33:25+00:00', 'author': 'PDF Generator API', 'keywords': 'Automated document generation with PDF Generator API. PDFLib:', 'moddate': '2025-06-05T07:33:25+00:00', 'trapped': '/False', 'source': 'some.pdf', 'total_pages': 1, 'page': 0, 'page_label': '1'}, page_content='Srilochan Kalakunta\\nAWS Academy Graduate - AWS Academy Cloud Foundations\\n06/05/2025\\nhttps://www.credly.com/go/VcB4JiLF\\n20 hours\\nPowered by PDF Generator API')]"
      ]
     },
     "execution_count": 8,
     "metadata": {},
     "output_type": "execute_result"
    }
   ],
   "source": [
    "from langchain_community.document_loaders import PyPDFLoader\n",
    "loader = PyPDFLoader('some.pdf')\n",
    "docs = loader.load()\n",
    "docs"
   ]
  },
  {
   "cell_type": "code",
   "execution_count": 9,
   "id": "66999e54",
   "metadata": {},
   "outputs": [
    {
     "data": {
      "text/plain": [
       "langchain_core.documents.base.Document"
      ]
     },
     "execution_count": 9,
     "metadata": {},
     "output_type": "execute_result"
    }
   ],
   "source": [
    "type(docs[0])"
   ]
  },
  {
   "cell_type": "code",
   "execution_count": null,
   "id": "ce7823ea",
   "metadata": {},
   "outputs": [],
   "source": [
    "from langchain_community.document_loaders import WebBaseLoader\n",
    "import bs4\n",
    "loader = WebBaseLoader(web_paths=(\"https://www.digitalocean.com/resources/articles/ai-blogs\",),)"
   ]
  },
  {
   "cell_type": "code",
   "execution_count": 16,
   "id": "48be48a7",
   "metadata": {},
   "outputs": [
    {
     "data": {
      "text/plain": [
       "[Document(metadata={'source': 'https://www.digitalocean.com/resources/articles/ai-blogs', 'title': 'Top 10 AI Blogs Covering Trends and Breakthroughs | DigitalOcean', 'description': 'Explore leading AI blogs offering crucial insights and timely updates on artificial intelligence advancements, trends, and applications', 'language': 'en'}, page_content=\"Top 10 AI Blogs Covering Trends and Breakthroughs | DigitalOceanBlogDocsGet SupportContact SalesDigitalOceanProductsFeatured ProductsDropletsScalable virtual machinesKubernetesScale more effectivelyAI / MLBuild and scale AI modelsCloudwaysManaged cloud hostingApp PlatformGet apps to market fasterComputeDropletsKubernetesCPU-Optimized DropletsFunctionsApp PlatformAI / MLGPU Droplets1-Click ModelsGenAI PlatformBare Metal GPUsBackups & SnapshotsBackupsSnapshotsSnapShooterNetworkingVirtual Private Cloud (VPC)Cloud FirewallsLoad BalancersDNSDDoS ProtectionManaged DatabasesMongoDBKafkaMySQLPostgreSQLValkeyOpenSearchStorageSpaces Object StorageVolume Block StorageDeveloper ToolsAPICLISupport PlansMonitoringUptimeIdentity Access ManagementCloud Website HostingCloudwaysSee all productsSolutionsAI and Machine LearningDevelop, train, and deploy AI appsGPUsGenAI Platform1-Click ModelsHR Knowledge AssistantCode CopilotSupport Ticket TriageRecommendation EngineBlockchainInfrastructure for decentralized appsBlogs, Forums and Content WebsitesLightning-fast, reliable CMS hostingWordpressGhostMastodonData AnalyticsReal-time data processing at scaleData StreamingAdTech & MartechDeveloper ToolsDevOps and CI/CD solutionsCI/CDPrototypingDigital Marketing AgenciesPower your clients’ websites and campaignsFreelancerIT ConsultingEcommerceBuild beautiful online storefrontsDropshippingWooCommerceMagentoGame DevelopmentLow-latency multiplayer serversMinecraft HostingIOTConnect to the power of the cloudISVsStreamlined ISV application developmentSecure Web HostingPowerful protection from DDoS and morePrivate VPNStartup Cloud HostingScalable, cost-effective infrastructureSmall BusinessVideo StreamingHigh-bandwidth, low-latency deliveryWeb and Mobile AppsSimple cross-platform app hostingcPanelDockerNext.jsNode.jsWebsite HostingFast page loads and reliable site uptimeVPS HostingVirtual MachinesGet helpMigration AssistanceTalk to an expertSee all solutionsDevelopersOur CommunityCommunity HomeDevOps and development guidesCSS-TricksAll things web designThe WaveContent to level up your business.ResourcesTutorialsQuestions and AnswersMarketplaceToolsWrite for DOnationsCloud ChatsCustomer StoriesDigitalOcean BlogPricing CalculatorGet InvolvedHatch Startup ProgramOpen Source SponsorshipsHacktoberfestDeploy 2025DO ImpactNonprofitsWavemakers ProgramDocumentationQuickstartComputeGenAI PlatformStorageManaged DatabasesContainersBillingAPI ReferencePartnersDigitalOcean Partner ProgramsBecome a PartnerPartner Services ProgramMarketplaceHatch Partner ProgramConnect with a PartnerPartner Programs ResourcesCustomer StoriesDigitalOcean Onboarding SeriesTraining for Agencies and FreelancersPrice Estimate CalculatorFeatured Partner ArticlesCloud cost optimization best practicesRead moreHow to choose a cloud providerRead moreDigitalOcean vs. AWS Lightsail: Which Cloud Platform is Right for You?Read moreQuestions?Talk to an expertNew Partnerships1-Click Models powered by Hugging FacePricingLog inSign upBlogDocsGet SupportContact SalesLog inSign upArticleTop 10 AI Blogs Covering Trends and BreakthroughsBy Jess LulkaContent Marketing ManagerPublished: August 19, 202410 min read<- Back to All ArticlesAs artificial intelligence advances, there’s a lot of content to explore and different ways you can learn about the latest technology trends, large language models, product releases, and hot-button discussions. From individuals crafting thoughtful analyses, to companies sharing technical breakthroughs, to research labs documenting their latest discoveries, experts and practitioners across the field are writing blogs about the developments in AI. These publications run the gamut in terms of intended audience, AI use cases and topics, and level of technical content.\\nThis article shares 10 essential AI blogs that anyone curious about AI should follow. These blogs cover topics like deep learning, machine learning, natural language processing, and practical AI applications, giving you the opportunity to learn about AI at your preferred knowledge level.\\n\\nDigitalOcean’s GenAI Platform offers businesses a fully managed service to build and deploy custom AI agents. With access to leading models from Meta, Mistral AI, and Anthropic, along with essential features like RAG workflows and guardrails, the platform makes it easier than ever to integrate powerful AI capabilities into your applications.\\n\\nView YouTube video\\n\\n\\nTypes of AI blogs to follow\\nEven within AI knowledge and news, there’s a variety of content to discover. Most blogs focus on a specific area of AI to ensure their content is engaging and relevant to readers. The main types of AI blogs that you’ll find are:\\n\\n\\nCompany: Run by a company that creates an AI product or offering.\\n\\n\\nAcademic: Will be either a university or a lab that focuses on AI research and new industry developments.\\n\\n\\nEnthusiast: A community or publication run by individuals who have experience with AI.\\n\\n\\nIndependent media publication: Journalists who work with contributors to cover industry news, product updates, and thought leadership about the AI industry.\\n\\n\\nAll of these types will cover different topics such as news, tutorials, industry standards, discussions, product updates and releases, and company happenings. The mix of this content will change depending on who publishes the blog and the types of contributors they have.\\nHow to find the right AI blog for you\\nIt’s easy enough to find AI blogs online via Google Search, but given the variety of available content, it might take some time to find the AI blog that suits your needs. As you search, some factors to think about include:\\n\\n\\nType of content: Do you want industry news, latest product updates, or technical tutorials?\\n\\n\\nTypes of authors: Who do you want to be writing the content you read, journalists, industry analysts, researchers, executives, or developers?\\n\\n\\nFrequency of content: Does it matter how often the blog publishes new content? Or are you fine with a less frequent cadence?\\n\\n\\nInteractivity: Do you want to have an active community or comment section along with your blog?\\n\\n\\nContent channels: How do you want to get your content, email updates, RSS feeds, curated newsletters, or Google news alerts?\\n\\n\\nKeeping these different factors in mind can help you figure out what blogs are most suited for your AI interests or needs, and help you sift through all the available AI blogs.\\n10 must-read AI blogs\\nWhether you’re seeking in-depth research, industry trends, or hands-on tutorials, AI blogs offer valuable resources to help you navigate the latest developments and applications. These 10 must-read AI blogs will keep you up to date:\\n1. DigitalOcean Community\\n.\\n\\nThe DigitalOcean community, includes a wide variety of tutorials and knowledge base articles surrounding AI, using machine learning, and deep learning. It is designed for developers interested in AI with some level of technical knowledge. With the information provided by in-house technical staff, you’ll be able to find something that gives you the AI content you want, whether you’re just beginning or an expert practitioner. It’s also a hub for you to learn about the latest DigitalOcean product updates and find out how you can directly implement them in your daily workflow. You’ll also find conceptual articles that explain important AI concepts, case studies, and technology cheat sheets.\\nPosts of interest:\\n\\n\\nBest Python Libraries for Machine Learning in 2025\\n\\n\\nIntroduction to TensorFlow: Build AI Across Domains\\n\\n\\nEffective Strategies for Sending Data to GenAI Agents\\n\\n\\n2. The BAIR Blog\\n\\nThe BAIR Blog, from UC Berkeley Artificial Intelligence Research Lab, explores AI research areas such as robotics, computer vision, and reinforcement learning. Geared towards a somewhat technical audience and AI enthusiasts, the blog discusses  AI model developments for CausalWorld and Concept Bottleneck, large language model methodologies, and research projects that address security concerns and data bias. It also includes interviews and stories that offer insight into the university’s AI research lab, research papers, methodologies, and theoretical advancements. Posts are written by Berkeley students, post-doctorates, and faculty.\\nPosts of interest:\\n\\n\\nDefending against Prompt Injection with Structured Queries (StruQ) and Preference Optimization (SecAlign)\\n\\n\\nLinguistic Bias in ChatGPT: Language Models Reinforce Dialect Discrimination\\n\\n\\nTinyAgent: Function Calling at the Edge\\n\\n\\n3. The OpenAI Blog\\n\\nThe OpenAI Blog offers AI research insights, company news, product updates, and security thought leadership. This content is suited for anyone interested in AI’s latest advancements and ethical considerations. Their posts include detailed explanations, research papers, practical applications, and updates on OpenAI’s products and models, making them a go-to resource if you use OpenAI regularly, work in the AI field, or are simply interested in how AI works and want to keep yourself informed of its evolution.\\nPosts of interest:\\n\\n\\nIntroducing Codex\\n\\n\\nDetecting misbehavior in frontier reasoning models\\n\\n\\nDisrupting malicious uses of AI\\n\\n\\n4. KDnuggets\\n\\nKDnuggets (KD stands for “knowledge discovery”) is a resource for data science, machine learning, and AI professionals. It offers a range of tutorials, industry news, and expert insights. Founded by Dr. Gregory Piatetsky-Shapiro, a leading expert in data mining and machine learning, KDnuggets has over two decades of continuous publication. It covers language model updates, data privacy in the age of AI, computer vision, natural language processing, machine learning operations (MLOps), and data engineering. It also has a variety of content on data science and machine learning career advice, including job hunting tips, skills to have, and how to build out your portfolio. Its regular contributors include in-house editors and guest authors who provide you with information about the latest tools, trends, and developments in the field.\\nPosts of interest:\\n\\n\\nHow to Deploy Your LLM to Hugging Face Spaces\\n\\n\\n10 GitHub Repositories to Master Large Language Models\\n\\n\\n3 Excellent Practical Generative AI Courses\\n\\n\\n5. Towards Data Science\\n\\nTowards Data Science offers insightful perspectives on the latest developments in machine learning and data science. Started in 2016 as a community hub, the blog hosts content on cutting-edge algorithms, model deployment pipelines, and emerging fields like self-supervised learning, programming techniques, and data engineering. Backed by a group of editors, regular contributors write articles that are a mix of tutorials, product roundups, industry trends, practical guides, and best practices. Catering to both newcomers and seasoned researchers, you’ll find Towards Data Science is a valuable resource if you have any interest in data science and machine learning.\\nPosts of interest:\\n\\n\\nACP: The Internet Protocol for AI Agents\\n\\n\\nHow to Build an AI Journal with LlamaIndex\\n\\n\\nLessons in Decision Making from the Monty Hall Problem\\n\\n\\n6. MarkTechPost\\n\\nMarkTechPost is an AI news platform with a community of over 1.5 million AI professionals and developers. It covers technical content for AI research, news, and tutorials around large language models, machine learning, computer vision, reinforcement learning, federated learning, and natural language processing. If you work in machine learning, data science, software development, or AI/ML research, you’ll find out how you can use AI to improve business operations and drive innovation with its articles from in-house staff.\\nPosts of interest:\\n\\n\\nCritical Security Vulnerabilities in the Model Context Protocol (MCP): How Malicious Tools and Deceptive Contexts Exploit AI Agents\\n\\n\\nThis AI paper from DeepSeek-AI Explores How DeepSeek-V3 Delivers High-Performance Language Modeling by Minimizing Hardware Overhead and Maximizing Computational Efficiency\\n\\n\\nReinforcement Learning Makes LLMs Search-Savvy: Ant Group Researchers Introduce SEM to Optimize Tool Usage and Reasoning Efficiency\\n\\n\\n7. The Hugging Face blog\\n\\nThe Hugging Face blog is a go-to resource for staying updated on natural language processing and machine learning advancements. You’ll find insights on developing and applying LLMs, including BERT, GPT, and more. You’ll also discover articles about model deployment and tutorials on fine-tuning and integrating models into production workflows. With a strong emphasis on democratizing AI, the blog has regular updates,  community contributions, collaborative projects, and new tools that increase machine learning accessibility. You’ll find valuable insights from Hugging Face regardless of whether you’re an AI enthusiast, researcher, or developer.\\nPosts of interest:\\n\\n\\nThe Transformers Library: standardizing model definitions\\n\\n\\nThe 4 Things Qwen-3’s Chat Template Teaches Us\\n\\n\\nVisualize and understand GPU memory in PyTorch\\n\\n\\n\\nWant to deploy popular AI models like Llama and Mistral? You can in just one click now with DigitalOcean and HuggingFace models on our GPU Droplets.\\n\\nView YouTube video\\n\\n\\n8. What’s AI from Louis Bouchard\\n\\nThe What’s AI blog from Louis Bouchard is an ideal resource if you’re just starting to get into the field of AI and machine learning. Comprised of videos and blog posts, you’ll find a variety of content focused around AI education, coding, industry trends, and career advice. Although Bouchard does focus a lot on large language models, you can also find content on retrieval-augmented generation (RAG), AI developer toolkits, how AI will affect certain industry sectors, and AI podcast interviews with experts in the field. All the content on this blog is created by Bouchard himself with the goal of helping AI become more accessible to enthusiasts and professionals in the field.\\nPosts of interest:\\n\\n\\nThe Best ‘LLM Developer’ Courses in 2025\\n\\n\\nInside ChatGPT: How AI Understands and Generates Language\\n\\n\\nOpen-Sora 2.0 Explained: Architecture, Training, and Why It Matters\\n\\n\\n9. Holistic AI\\n\\nThe Holistic AI blog is a leading resource for insights into the development and governance of ethical AI systems, which include AI fairness, accountability, transparency, and risk management. Founded by Emre Kazim and Adriano Koshiyama at University College, London, Holistic AI aims to help companies build and scale responsible AI systems that harmoniously integrate with society. Its content provides expert analyses of the latest regulatory developments, case studies on bias mitigation, webinars, research papers, and best practices for deploying AI responsibly across various industries. With a strong emphasis on building trustworthy AI, the blog is a valuable tool if you are interested in or work in AI policy and are committed to aligning AI technologies with ethical standards.\\nPosts of interest:\\n\\n\\nAI Governance vs Data Governance: Why Enterprises Need an AI-Native Platform\\n\\n\\nWhat is AI Governance?\\n\\n\\nThe Importance of Privacy Measurement in Machine Learning Models\\n\\n\\n10. Analytics Vidhya\\n\\nThe Analytics Vidhya blog is dedicated to data science, AI, and machine learning. Its goal is to “help build the next generation of AI professionals,” so it offers a wide collection of tutorials, case studies, and coding challenges for those just starting out or established in the field. The team behind the blog also runs an annual DataHack Summit conference. Its content is geared towards beginners all the way to experts. Primary topics include machine learning algorithms, data visualization techniques, AI agents, generative AI, prompt engineering, large language models, and career and interviewing guidance. You’ll want to check out Analytics Vidhya if you’re interested in building out AI and data science skills. It offers hands-on guides and community-driven projects that enable readers to apply their knowledge in real-world scenarios, particularly in predictive modeling and analytics.\\nPosts of interest:\\n\\n\\nLangGraph Tutorial for Beginners\\n\\n\\nTop 10 Machine Learning Algorithms in 2025\\n\\n\\nPython Slicing: 9 Useful Methods for Everyday Coding\\n\\n\\nResources\\n\\n\\nRun LLMs with Ollama on H100 GPUs for Maximum Efficiency\\n\\n\\nEffective Strategies for Sending Data to GenAI Agents\\n\\n\\nHow to Deploy Qwen-3 on DigitalOcean GPU Droplets\\n\\n\\nBest AI blogs FAQs\\nWhat are the best AI blogs currently available?\\nThe best AI blogs will depend on your interest and knowledge of AI. Self-assess your knowledge level of AI (beginner, amateur, intermediate, expert), and then think about what you want to know about AI (concepts, industry trends, business use cases), and that will help guide you to the best and most relevant blogs.\\nHow do I find AI blogs?\\nYou can find AI blogs by searching “Top AI blogs,” or “AI blogs,” on Google Search. You can tailor these searches for your needs depending on your experience and interest in AI.\\nWhat types of content do AI blogs have?\\nAI blogs have a variety of content, such as tutorials, opinion pieces, educational articles, best practices, and interviews. The type of content will vary from blog to blog.\\nBuild with DigitalOcean’s GenAI platform\\nDigitalOcean’s GenAI Platform makes it easier to build and deploy AI agents without managing complex infrastructure. Our fully-managed service gives you access to industry-leading models from Meta, Mistral AI, and Anthropic with must-have features for creating AI/ML applications.\\nKey features include:\\n\\n\\nRAG workflows for building agents that reference your data\\n\\n\\nGuardrails to create safer, on-brand agent experiences\\n\\n\\nFunction calling capabilities for real-time information access\\n\\n\\nAgent routing for handling multiple tasks\\n\\n\\nFine-tuning tools to create custom models with your data\\n\\n\\nDon’t just take our word for it—see for yourself. Get started with AI and machine learning at DigitalOcean to get access to everything you need to build, run, and manage the next big thing.\\nAbout the authorJess LulkaAuthorContent Marketing ManagerSee author profileJess Lulka is a Content Marketing Manager at DigitalOcean. She has over 10 years of B2B technical content experience and has written about observability, data centers, IoT, server virtualization, and design engineering. Before DigitalOcean, she worked at Chronosphere, Informa TechTarget, and Digital Engineering. She is based in Seattle and enjoys pub trivia, travel, and reading.See author profileShareAi MlTry DigitalOcean for freeClick below to sign up and get $200 of credit to try our products over 60 days!Sign upRelated ResourcesArticlesWhat is Vertex AI? Unpacking Google's ML PlatformRead moreArticles10 Generative AI Use Cases Transforming Industries in 2025Read moreArticlesWhat Is an AI Task Manager and How Can It Automate Your Workflow?Read moreTable of contentsGet started for freeSign up and get $200 in credit for your first 60 days with DigitalOcean.*Get started*This promotional offer applies to new accounts only.CompanyAboutLeadershipBlogCareersCustomersPartnersReferral ProgramAffiliate ProgramPressLegalPrivacy PolicySecurityInvestor RelationsDO ImpactNonprofitsProductsOverviewDropletsKubernetesFunctionsApp PlatformGPU Droplets1-Click ModelsGenAI PlatformBare Metal GPUsLoad BalancersManaged DatabasesSpacesBlock StorageAPIUptimeIdentity Access ManagementCloudwaysResourcesCommunity TutorialsCommunity Q&ACSS-TricksWrite for DOnationsCurrents ResearchHatch Startup ProgramWavemakers ProgramCompass CouncilOpen SourceNewsletter SignupMarketplacePricingPricing CalculatorDocumentationRelease NotesCode of ConductShop SwagSolutionsWebsite HostingVPS HostingWeb & Mobile AppsGame DevelopmentStreamingVPNSaaS PlatformsCloud Hosting for BlockchainStartup ResourcesMigration AssistanceContactSupportSalesReport AbuseSystem StatusShare your ideasCompanyAboutLeadershipBlogCareersCustomersPartnersReferral ProgramAffiliate ProgramPressLegalPrivacy PolicySecurityInvestor RelationsDO ImpactNonprofitsProductsOverviewDropletsKubernetesFunctionsApp PlatformGPU Droplets1-Click ModelsGenAI PlatformBare Metal GPUsLoad BalancersManaged DatabasesSpacesBlock StorageAPIUptimeIdentity Access ManagementCloudwaysResourcesCommunity TutorialsCommunity Q&ACSS-TricksWrite for DOnationsCurrents ResearchHatch Startup ProgramWavemakers ProgramCompass CouncilOpen SourceNewsletter SignupMarketplacePricingPricing CalculatorDocumentationRelease NotesCode of ConductShop SwagSolutionsWebsite HostingVPS HostingWeb & Mobile AppsGame DevelopmentStreamingVPNSaaS PlatformsCloud Hosting for BlockchainStartup ResourcesMigration AssistanceContactSupportSalesReport AbuseSystem StatusShare your ideas© 2025 DigitalOcean, LLC.Sitemap.\")]"
      ]
     },
     "execution_count": 16,
     "metadata": {},
     "output_type": "execute_result"
    }
   ],
   "source": [
    "loader.load()"
   ]
  },
  {
   "cell_type": "code",
   "execution_count": null,
   "id": "93bb4dc5",
   "metadata": {},
   "outputs": [],
   "source": []
  }
 ],
 "metadata": {
  "kernelspec": {
   "display_name": "Python 3",
   "language": "python",
   "name": "python3"
  },
  "language_info": {
   "codemirror_mode": {
    "name": "ipython",
    "version": 3
   },
   "file_extension": ".py",
   "mimetype": "text/x-python",
   "name": "python",
   "nbconvert_exporter": "python",
   "pygments_lexer": "ipython3",
   "version": "3.10.0"
  }
 },
 "nbformat": 4,
 "nbformat_minor": 5
}
